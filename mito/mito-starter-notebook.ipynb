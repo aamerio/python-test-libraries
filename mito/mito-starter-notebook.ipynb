{
 "cells": [
  {
   "cell_type": "code",
   "execution_count": 2,
   "id": "c0957234-ba57-4199-adfa-9d17ede0b8f9",
   "metadata": {},
   "outputs": [
    {
     "data": {
      "application/vnd.jupyter.widget-view+json": {
       "model_id": "b70ebd35198e49e2bc10ec4b8573add5",
       "version_major": 2,
       "version_minor": 0
      },
      "text/plain": [
       "MitoWidget(analysis_data_json='{\"analysisName\": \"UUID-240af4ca-c6c3-4145-a7f8-b979e67552eb\", \"code\": {\"imports…"
      ]
     },
     "metadata": {},
     "output_type": "display_data"
    }
   ],
   "source": [
    "# Run this cell to render a mitosheet\n",
    "# See mito's documentation here: https://docs.trymito.io/how-to/creating-a-mitosheet\n",
    "# Join our Discord for support here: https://discord.gg/XdJSZyejJU\n",
    "\n",
    "import mitosheet\n",
    "mitosheet.sheet()"
   ]
  },
  {
   "cell_type": "code",
   "execution_count": null,
   "id": "326ec595-e81e-4fea-bbb1-e20721035dd9",
   "metadata": {},
   "outputs": [],
   "source": [
    "from mitosheet import *; register_analysis('UUID-240af4ca-c6c3-4145-a7f8-b979e67552eb')\n",
    "\n",
    "# Imported /Users/alberto.amerio/Projects/github/python-test-libraries/mito/all_games.csv\n",
    "import pandas as pd\n",
    "all_games_csv = pd.read_csv(r'/Users/alberto.amerio/Projects/github/python-test-libraries/mito/all_games.csv')\n",
    "\n",
    "# Pivoted all_games_csv into df2\n",
    "unused_columns = all_games_csv.columns.difference(set(['release_date']).union(set([])).union(set({'meta_score'})))\n",
    "tmp_df = all_games_csv.drop(unused_columns, axis=1)\n",
    "pivot_table = tmp_df.pivot_table(\n",
    "    index=['release_date'],\n",
    "    values=['meta_score'],\n",
    "    aggfunc={'meta_score': ['sum']}\n",
    ")\n",
    "pivot_table.columns = [flatten_column_header(col) for col in pivot_table.columns.values]\n",
    "df2 = pivot_table.reset_index()\n",
    "\n",
    "# Changed release_date from object to datetime\n",
    "import pandas as pd\n",
    "df2['release_date'] = pd.to_datetime(df2['release_date'], infer_datetime_format=True, errors='coerce')\n",
    "\n",
    "# Sorted release_date in df2 in ascending order\n",
    "df2 = df2.sort_values(by='release_date', ascending=True, na_position='first')\n"
   ]
  }
 ],
 "metadata": {
  "kernelspec": {
   "display_name": "Python 3 (ipykernel)",
   "language": "python",
   "name": "python3"
  },
  "language_info": {
   "codemirror_mode": {
    "name": "ipython",
    "version": 3
   },
   "file_extension": ".py",
   "mimetype": "text/x-python",
   "name": "python",
   "nbconvert_exporter": "python",
   "pygments_lexer": "ipython3",
   "version": "3.10.0"
  },
  "widgets": {
   "application/vnd.jupyter.widget-state+json": {
    "state": {},
    "version_major": 2,
    "version_minor": 0
   }
  }
 },
 "nbformat": 4,
 "nbformat_minor": 5
}
